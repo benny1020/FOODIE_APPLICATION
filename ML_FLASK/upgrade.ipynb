{
 "cells": [
  {
   "cell_type": "code",
   "execution_count": 2,
   "metadata": {},
   "outputs": [
    {
     "name": "stdout",
     "output_type": "stream",
     "text": [
      "김치찌개  파일 길이 :  20\n",
      "김치찌개  :  ./dataset_2/train/김치찌개/3 copy 3.jpeg\n",
      "라면  파일 길이 :  20\n",
      "라면  :  ./dataset_2/train/라면/3 copy 3.jpeg\n",
      "양념게장  파일 길이 :  20\n",
      "양념게장  :  ./dataset_2/train/양념게장/3 copy 3.jpeg\n",
      "제육볶음  파일 길이 :  20\n",
      "제육볶음  :  ./dataset_2/train/제육볶음/3 copy 3.jpeg\n",
      "된장찌개  파일 길이 :  20\n",
      "된장찌개  :  ./dataset_2/train/된장찌개/3 copy 3.jpeg\n",
      "돈까스  파일 길이 :  20\n",
      "돈까스  :  ./dataset_2/train/돈까스/3 copy 3.jpeg\n",
      "김치볶음밥  파일 길이 :  20\n",
      "김치볶음밥  :  ./dataset_2/train/김치볶음밥/3 copy 3.jpeg\n",
      "비빔밥  파일 길이 :  20\n",
      "비빔밥  :  ./dataset_2/train/비빔밥/3 copy 3.jpeg\n",
      "삼겹살  파일 길이 :  20\n",
      "삼겹살  :  ./dataset_2/train/삼겹살/3 copy 3.jpeg\n",
      "스파게티  파일 길이 :  20\n",
      "스파게티  :  ./dataset_2/train/스파게티/3 copy 3.jpeg\n",
      "ok 200\n"
     ]
    }
   ],
   "source": [
    "from PIL import Image\n",
    "import os, glob, numpy as np\n",
    "from sklearn.model_selection import train_test_split\n",
    "\n",
    "caltech_dir = \"./dataset_2/train\"\n",
    "\n",
    "categories = [\"김치찌개\", \"라면\", \"양념게장\", \"제육볶음\",\"된장찌개\",\n",
    "             \"돈까스\",\"김치볶음밥\",\"비빔밥\",\"삼겹살\",\"스파게티\"]\n",
    "nb_classes = len(categories)\n",
    "\n",
    "image_w = 64\n",
    "image_h = 64\n",
    "\n",
    "pixels = image_h * image_w * 3\n",
    "\n",
    "X = []\n",
    "y = []\n",
    "\n",
    "for idx, cat in enumerate(categories):\n",
    "    \n",
    "    #one-hot 돌리기.\n",
    "    label = [0 for i in range(nb_classes)]\n",
    "    label[idx] = 1\n",
    "\n",
    "    image_dir = caltech_dir + \"/\" + cat\n",
    "    files = glob.glob(image_dir+\"/*.jpeg\")\n",
    "    print(cat, \" 파일 길이 : \", len(files))\n",
    "    for i, f in enumerate(files):\n",
    "        img = Image.open(f)\n",
    "        img = img.convert(\"RGB\")\n",
    "        img = img.resize((image_w, image_h))\n",
    "        data = np.asarray(img)\n",
    "\n",
    "        X.append(data)\n",
    "        y.append(label)\n",
    "\n",
    "        if i % 700 == 0:\n",
    "            print(cat, \" : \", f)\n",
    "\n",
    "X = np.array(X)\n",
    "y = np.array(y)\n",
    "#1 0 0 0 이면 airplanes\n",
    "#0 1 0 0 이면 buddha 이런식\n",
    "\n",
    "\n",
    "X_train, X_test, y_train, y_test = train_test_split(X, y)\n",
    "xy = (X_train, X_test, y_train, y_test)\n",
    "np.save(\"./upgrade_numpy_data/multi_image_data.npy\", xy)\n",
    "\n",
    "print(\"ok\", len(y))"
   ]
  },
  {
   "cell_type": "code",
   "execution_count": 3,
   "metadata": {},
   "outputs": [
    {
     "name": "stdout",
     "output_type": "stream",
     "text": [
      "(150, 64, 64, 3)\n",
      "150\n"
     ]
    }
   ],
   "source": [
    "import os, glob, numpy as np\n",
    "from keras.models import Sequential\n",
    "from keras.layers import Conv2D, MaxPooling2D, Dense, Flatten, Dropout\n",
    "from keras.callbacks import EarlyStopping, ModelCheckpoint\n",
    "import matplotlib.pyplot as plt\n",
    "import tensorflow.keras.backend as K\n",
    "\n",
    "import tensorflow as tf\n",
    "\n",
    "config = tf.compat.v1.ConfigProto()\n",
    "config.gpu_options.allow_growth = True\n",
    "session = tf.compat.v1.Session(config=config)\n",
    "\n",
    "X_train, X_test, y_train, y_test = np.load('./upgrade_numpy_data/multi_image_data.npy',allow_pickle=True)\n",
    "print(X_train.shape)\n",
    "print(X_train.shape[0])"
   ]
  },
  {
   "cell_type": "code",
   "execution_count": 4,
   "metadata": {},
   "outputs": [],
   "source": [
    "categories = [\"김치찌개\", \"라면\", \"양념게장\", \"제육볶음\",\"된장찌개\",\n",
    "             \"돈까스\",\"김치볶음밥\",\"비빔밥\",\"삼겹살\",\"스파게티\"]\n",
    "nb_classes = len(categories)\n",
    "\n",
    "#일반화\n",
    "X_train = X_train.astype(float) / 255\n",
    "X_test = X_test.astype(float) / 255\n"
   ]
  },
  {
   "cell_type": "code",
   "execution_count": 5,
   "metadata": {},
   "outputs": [],
   "source": [
    "\n",
    "    model = Sequential()\n",
    "    model.add(Conv2D(32, (3,3), padding=\"same\", input_shape=X_train.shape[1:], activation='relu'))\n",
    "    model.add(MaxPooling2D(pool_size=(2,2)))\n",
    "    model.add(Dropout(0.25))\n",
    "    \n",
    "    model.add(Conv2D(64, (3,3), padding=\"same\", activation='relu'))\n",
    "    model.add(MaxPooling2D(pool_size=(2,2)))\n",
    "    model.add(Dropout(0.25))\n",
    "    \n",
    "    model.add(Flatten())\n",
    "    model.add(Dense(256, activation='relu'))\n",
    "    model.add(Dropout(0.5))\n",
    "    model.add(Dense(nb_classes, activation='softmax'))\n",
    "    model.compile(loss='categorical_crossentropy', optimizer='adam', metrics=['accuracy'])\n",
    "    model_dir = './upgrade_model'\n",
    "    \n",
    "    if not os.path.exists(model_dir):\n",
    "        os.mkdir(model_dir)\n",
    "    \n",
    "    model_path = model_dir + '/upgrade_multi_img_classification.model'\n",
    "    checkpoint = ModelCheckpoint(filepath=model_path , monitor='val_loss', verbose=1, save_best_only=True)\n",
    "    early_stopping = EarlyStopping(monitor='val_loss', patience=6)"
   ]
  },
  {
   "cell_type": "code",
   "execution_count": 6,
   "metadata": {},
   "outputs": [
    {
     "name": "stdout",
     "output_type": "stream",
     "text": [
      "Model: \"sequential\"\n",
      "_________________________________________________________________\n",
      "Layer (type)                 Output Shape              Param #   \n",
      "=================================================================\n",
      "conv2d (Conv2D)              (None, 64, 64, 32)        896       \n",
      "_________________________________________________________________\n",
      "max_pooling2d (MaxPooling2D) (None, 32, 32, 32)        0         \n",
      "_________________________________________________________________\n",
      "dropout (Dropout)            (None, 32, 32, 32)        0         \n",
      "_________________________________________________________________\n",
      "conv2d_1 (Conv2D)            (None, 32, 32, 64)        18496     \n",
      "_________________________________________________________________\n",
      "max_pooling2d_1 (MaxPooling2 (None, 16, 16, 64)        0         \n",
      "_________________________________________________________________\n",
      "dropout_1 (Dropout)          (None, 16, 16, 64)        0         \n",
      "_________________________________________________________________\n",
      "flatten (Flatten)            (None, 16384)             0         \n",
      "_________________________________________________________________\n",
      "dense (Dense)                (None, 256)               4194560   \n",
      "_________________________________________________________________\n",
      "dropout_2 (Dropout)          (None, 256)               0         \n",
      "_________________________________________________________________\n",
      "dense_1 (Dense)              (None, 10)                2570      \n",
      "=================================================================\n",
      "Total params: 4,216,522\n",
      "Trainable params: 4,216,522\n",
      "Non-trainable params: 0\n",
      "_________________________________________________________________\n"
     ]
    }
   ],
   "source": [
    "model.summary()"
   ]
  },
  {
   "cell_type": "code",
   "execution_count": 7,
   "metadata": {},
   "outputs": [
    {
     "name": "stdout",
     "output_type": "stream",
     "text": [
      "Epoch 1/50\n",
      "5/5 [==============================] - 2s 314ms/step - loss: 2.7875 - accuracy: 0.0863 - val_loss: 2.3115 - val_accuracy: 0.2000\n",
      "\n",
      "Epoch 00001: val_loss improved from inf to 2.31153, saving model to ./upgrade_model/upgrade_multi_img_classification.model\n",
      "INFO:tensorflow:Assets written to: ./upgrade_model/upgrade_multi_img_classification.model/assets\n",
      "Epoch 2/50\n",
      "5/5 [==============================] - 1s 109ms/step - loss: 2.3042 - accuracy: 0.1445 - val_loss: 2.2711 - val_accuracy: 0.3600\n",
      "\n",
      "Epoch 00002: val_loss improved from 2.31153 to 2.27113, saving model to ./upgrade_model/upgrade_multi_img_classification.model\n",
      "INFO:tensorflow:Assets written to: ./upgrade_model/upgrade_multi_img_classification.model/assets\n",
      "Epoch 3/50\n",
      "5/5 [==============================] - 1s 127ms/step - loss: 2.2021 - accuracy: 0.2522 - val_loss: 2.2249 - val_accuracy: 0.4600\n",
      "\n",
      "Epoch 00003: val_loss improved from 2.27113 to 2.22494, saving model to ./upgrade_model/upgrade_multi_img_classification.model\n",
      "INFO:tensorflow:Assets written to: ./upgrade_model/upgrade_multi_img_classification.model/assets\n",
      "Epoch 4/50\n",
      "5/5 [==============================] - 1s 107ms/step - loss: 2.0422 - accuracy: 0.4771 - val_loss: 2.0383 - val_accuracy: 0.5000\n",
      "\n",
      "Epoch 00004: val_loss improved from 2.22494 to 2.03830, saving model to ./upgrade_model/upgrade_multi_img_classification.model\n",
      "INFO:tensorflow:Assets written to: ./upgrade_model/upgrade_multi_img_classification.model/assets\n",
      "Epoch 5/50\n",
      "5/5 [==============================] - 1s 111ms/step - loss: 1.7183 - accuracy: 0.5151 - val_loss: 1.6786 - val_accuracy: 0.6200\n",
      "\n",
      "Epoch 00005: val_loss improved from 2.03830 to 1.67856, saving model to ./upgrade_model/upgrade_multi_img_classification.model\n",
      "INFO:tensorflow:Assets written to: ./upgrade_model/upgrade_multi_img_classification.model/assets\n",
      "Epoch 6/50\n",
      "5/5 [==============================] - 1s 117ms/step - loss: 1.3198 - accuracy: 0.5701 - val_loss: 1.2618 - val_accuracy: 0.8600\n",
      "\n",
      "Epoch 00006: val_loss improved from 1.67856 to 1.26176, saving model to ./upgrade_model/upgrade_multi_img_classification.model\n",
      "INFO:tensorflow:Assets written to: ./upgrade_model/upgrade_multi_img_classification.model/assets\n",
      "Epoch 7/50\n",
      "5/5 [==============================] - 1s 112ms/step - loss: 1.1120 - accuracy: 0.6434 - val_loss: 0.9234 - val_accuracy: 0.8000\n",
      "\n",
      "Epoch 00007: val_loss improved from 1.26176 to 0.92342, saving model to ./upgrade_model/upgrade_multi_img_classification.model\n",
      "INFO:tensorflow:Assets written to: ./upgrade_model/upgrade_multi_img_classification.model/assets\n",
      "Epoch 8/50\n",
      "5/5 [==============================] - 1s 200ms/step - loss: 0.8641 - accuracy: 0.7177 - val_loss: 0.7704 - val_accuracy: 0.8600\n",
      "\n",
      "Epoch 00008: val_loss improved from 0.92342 to 0.77044, saving model to ./upgrade_model/upgrade_multi_img_classification.model\n",
      "INFO:tensorflow:Assets written to: ./upgrade_model/upgrade_multi_img_classification.model/assets\n",
      "Epoch 9/50\n",
      "5/5 [==============================] - 1s 124ms/step - loss: 0.6156 - accuracy: 0.8478 - val_loss: 0.4044 - val_accuracy: 0.9400\n",
      "\n",
      "Epoch 00009: val_loss improved from 0.77044 to 0.40437, saving model to ./upgrade_model/upgrade_multi_img_classification.model\n",
      "INFO:tensorflow:Assets written to: ./upgrade_model/upgrade_multi_img_classification.model/assets\n",
      "Epoch 10/50\n",
      "5/5 [==============================] - 1s 121ms/step - loss: 0.3310 - accuracy: 0.9505 - val_loss: 0.2355 - val_accuracy: 1.0000\n",
      "\n",
      "Epoch 00010: val_loss improved from 0.40437 to 0.23552, saving model to ./upgrade_model/upgrade_multi_img_classification.model\n",
      "INFO:tensorflow:Assets written to: ./upgrade_model/upgrade_multi_img_classification.model/assets\n",
      "Epoch 11/50\n",
      "5/5 [==============================] - 1s 125ms/step - loss: 0.2367 - accuracy: 0.9475 - val_loss: 0.1515 - val_accuracy: 1.0000\n",
      "\n",
      "Epoch 00011: val_loss improved from 0.23552 to 0.15153, saving model to ./upgrade_model/upgrade_multi_img_classification.model\n",
      "INFO:tensorflow:Assets written to: ./upgrade_model/upgrade_multi_img_classification.model/assets\n",
      "Epoch 12/50\n",
      "5/5 [==============================] - 1s 119ms/step - loss: 0.1815 - accuracy: 0.9572 - val_loss: 0.1209 - val_accuracy: 1.0000\n",
      "\n",
      "Epoch 00012: val_loss improved from 0.15153 to 0.12085, saving model to ./upgrade_model/upgrade_multi_img_classification.model\n",
      "INFO:tensorflow:Assets written to: ./upgrade_model/upgrade_multi_img_classification.model/assets\n",
      "Epoch 13/50\n",
      "5/5 [==============================] - 1s 120ms/step - loss: 0.1290 - accuracy: 0.9886 - val_loss: 0.0609 - val_accuracy: 1.0000\n",
      "\n",
      "Epoch 00013: val_loss improved from 0.12085 to 0.06089, saving model to ./upgrade_model/upgrade_multi_img_classification.model\n",
      "INFO:tensorflow:Assets written to: ./upgrade_model/upgrade_multi_img_classification.model/assets\n",
      "Epoch 14/50\n",
      "5/5 [==============================] - 1s 124ms/step - loss: 0.0789 - accuracy: 0.9817 - val_loss: 0.0298 - val_accuracy: 1.0000\n",
      "\n",
      "Epoch 00014: val_loss improved from 0.06089 to 0.02977, saving model to ./upgrade_model/upgrade_multi_img_classification.model\n",
      "INFO:tensorflow:Assets written to: ./upgrade_model/upgrade_multi_img_classification.model/assets\n",
      "Epoch 15/50\n",
      "5/5 [==============================] - 1s 127ms/step - loss: 0.0650 - accuracy: 0.9899 - val_loss: 0.0216 - val_accuracy: 1.0000\n",
      "\n",
      "Epoch 00015: val_loss improved from 0.02977 to 0.02163, saving model to ./upgrade_model/upgrade_multi_img_classification.model\n",
      "INFO:tensorflow:Assets written to: ./upgrade_model/upgrade_multi_img_classification.model/assets\n",
      "Epoch 16/50\n",
      "5/5 [==============================] - 1s 134ms/step - loss: 0.0466 - accuracy: 0.9978 - val_loss: 0.0189 - val_accuracy: 1.0000\n",
      "\n",
      "Epoch 00016: val_loss improved from 0.02163 to 0.01890, saving model to ./upgrade_model/upgrade_multi_img_classification.model\n",
      "INFO:tensorflow:Assets written to: ./upgrade_model/upgrade_multi_img_classification.model/assets\n",
      "Epoch 17/50\n",
      "5/5 [==============================] - 1s 137ms/step - loss: 0.0468 - accuracy: 0.9947 - val_loss: 0.0077 - val_accuracy: 1.0000\n",
      "\n",
      "Epoch 00017: val_loss improved from 0.01890 to 0.00768, saving model to ./upgrade_model/upgrade_multi_img_classification.model\n",
      "INFO:tensorflow:Assets written to: ./upgrade_model/upgrade_multi_img_classification.model/assets\n",
      "Epoch 18/50\n",
      "5/5 [==============================] - 1s 133ms/step - loss: 0.0415 - accuracy: 1.0000 - val_loss: 0.0047 - val_accuracy: 1.0000\n",
      "\n",
      "Epoch 00018: val_loss improved from 0.00768 to 0.00474, saving model to ./upgrade_model/upgrade_multi_img_classification.model\n",
      "INFO:tensorflow:Assets written to: ./upgrade_model/upgrade_multi_img_classification.model/assets\n",
      "Epoch 19/50\n",
      "5/5 [==============================] - 1s 127ms/step - loss: 0.0436 - accuracy: 0.9869 - val_loss: 0.0065 - val_accuracy: 1.0000\n",
      "\n",
      "Epoch 00019: val_loss did not improve from 0.00474\n",
      "Epoch 20/50\n",
      "5/5 [==============================] - 1s 123ms/step - loss: 0.0239 - accuracy: 0.9921 - val_loss: 0.0051 - val_accuracy: 1.0000\n",
      "\n",
      "Epoch 00020: val_loss did not improve from 0.00474\n",
      "Epoch 21/50\n",
      "5/5 [==============================] - 1s 135ms/step - loss: 0.0512 - accuracy: 0.9869 - val_loss: 0.0039 - val_accuracy: 1.0000\n",
      "\n",
      "Epoch 00021: val_loss improved from 0.00474 to 0.00394, saving model to ./upgrade_model/upgrade_multi_img_classification.model\n",
      "INFO:tensorflow:Assets written to: ./upgrade_model/upgrade_multi_img_classification.model/assets\n",
      "Epoch 22/50\n",
      "5/5 [==============================] - 1s 127ms/step - loss: 0.0313 - accuracy: 0.9869 - val_loss: 0.0029 - val_accuracy: 1.0000\n",
      "\n",
      "Epoch 00022: val_loss improved from 0.00394 to 0.00294, saving model to ./upgrade_model/upgrade_multi_img_classification.model\n",
      "INFO:tensorflow:Assets written to: ./upgrade_model/upgrade_multi_img_classification.model/assets\n",
      "Epoch 23/50\n",
      "5/5 [==============================] - 1s 142ms/step - loss: 0.0172 - accuracy: 1.0000 - val_loss: 0.0024 - val_accuracy: 1.0000\n",
      "\n",
      "Epoch 00023: val_loss improved from 0.00294 to 0.00242, saving model to ./upgrade_model/upgrade_multi_img_classification.model\n",
      "INFO:tensorflow:Assets written to: ./upgrade_model/upgrade_multi_img_classification.model/assets\n",
      "Epoch 24/50\n",
      "5/5 [==============================] - 1s 175ms/step - loss: 0.0234 - accuracy: 0.9965 - val_loss: 0.0021 - val_accuracy: 1.0000\n"
     ]
    },
    {
     "name": "stdout",
     "output_type": "stream",
     "text": [
      "\n",
      "Epoch 00024: val_loss improved from 0.00242 to 0.00206, saving model to ./upgrade_model/upgrade_multi_img_classification.model\n",
      "INFO:tensorflow:Assets written to: ./upgrade_model/upgrade_multi_img_classification.model/assets\n",
      "Epoch 25/50\n",
      "5/5 [==============================] - 1s 117ms/step - loss: 0.0141 - accuracy: 0.9947 - val_loss: 0.0024 - val_accuracy: 1.0000\n",
      "\n",
      "Epoch 00025: val_loss did not improve from 0.00206\n",
      "Epoch 26/50\n",
      "5/5 [==============================] - 1s 126ms/step - loss: 0.0095 - accuracy: 1.0000 - val_loss: 0.0024 - val_accuracy: 1.0000\n",
      "\n",
      "Epoch 00026: val_loss did not improve from 0.00206\n",
      "Epoch 27/50\n",
      "5/5 [==============================] - 1s 147ms/step - loss: 0.0125 - accuracy: 1.0000 - val_loss: 0.0015 - val_accuracy: 1.0000\n",
      "\n",
      "Epoch 00027: val_loss improved from 0.00206 to 0.00152, saving model to ./upgrade_model/upgrade_multi_img_classification.model\n",
      "INFO:tensorflow:Assets written to: ./upgrade_model/upgrade_multi_img_classification.model/assets\n",
      "Epoch 28/50\n",
      "5/5 [==============================] - 1s 127ms/step - loss: 0.0092 - accuracy: 0.9965 - val_loss: 8.8455e-04 - val_accuracy: 1.0000\n",
      "\n",
      "Epoch 00028: val_loss improved from 0.00152 to 0.00088, saving model to ./upgrade_model/upgrade_multi_img_classification.model\n",
      "INFO:tensorflow:Assets written to: ./upgrade_model/upgrade_multi_img_classification.model/assets\n",
      "Epoch 29/50\n",
      "5/5 [==============================] - 1s 125ms/step - loss: 0.0180 - accuracy: 0.9930 - val_loss: 6.2274e-04 - val_accuracy: 1.0000\n",
      "\n",
      "Epoch 00029: val_loss improved from 0.00088 to 0.00062, saving model to ./upgrade_model/upgrade_multi_img_classification.model\n",
      "INFO:tensorflow:Assets written to: ./upgrade_model/upgrade_multi_img_classification.model/assets\n",
      "Epoch 30/50\n",
      "5/5 [==============================] - 1s 133ms/step - loss: 0.0144 - accuracy: 1.0000 - val_loss: 0.0019 - val_accuracy: 1.0000\n",
      "\n",
      "Epoch 00030: val_loss did not improve from 0.00062\n",
      "Epoch 31/50\n",
      "5/5 [==============================] - 1s 143ms/step - loss: 0.0267 - accuracy: 0.9921 - val_loss: 0.0019 - val_accuracy: 1.0000\n",
      "\n",
      "Epoch 00031: val_loss did not improve from 0.00062\n",
      "Epoch 32/50\n",
      "5/5 [==============================] - 1s 127ms/step - loss: 0.0133 - accuracy: 1.0000 - val_loss: 0.0043 - val_accuracy: 1.0000\n",
      "\n",
      "Epoch 00032: val_loss did not improve from 0.00062\n",
      "Epoch 33/50\n",
      "5/5 [==============================] - 1s 157ms/step - loss: 0.0182 - accuracy: 1.0000 - val_loss: 0.0028 - val_accuracy: 1.0000\n",
      "\n",
      "Epoch 00033: val_loss did not improve from 0.00062\n",
      "Epoch 34/50\n",
      "5/5 [==============================] - 1s 217ms/step - loss: 0.0151 - accuracy: 1.0000 - val_loss: 0.0016 - val_accuracy: 1.0000\n",
      "\n",
      "Epoch 00034: val_loss did not improve from 0.00062\n",
      "Epoch 35/50\n",
      "5/5 [==============================] - 1s 131ms/step - loss: 0.0178 - accuracy: 0.9895 - val_loss: 9.4722e-04 - val_accuracy: 1.0000\n",
      "\n",
      "Epoch 00035: val_loss did not improve from 0.00062\n"
     ]
    }
   ],
   "source": [
    "history = model.fit(X_train, y_train, batch_size=32, epochs=50, validation_data=(X_test, y_test), callbacks=[checkpoint, early_stopping])"
   ]
  },
  {
   "cell_type": "code",
   "execution_count": 8,
   "metadata": {},
   "outputs": [
    {
     "data": {
      "image/png": "[encoded data removed]",
      "text/plain": [
       "<Figure size 432x288 with 1 Axes>"
      ]
     },
     "metadata": {
      "needs_background": "light"
     },
     "output_type": "display_data"
    }
   ],
   "source": [
    "\n",
    "y_vloss = history.history['val_loss']\n",
    "y_loss = history.history['loss']\n",
    "\n",
    "x_len = np.arange(len(y_loss))\n",
    "\n",
    "plt.plot(x_len, y_vloss, marker='.', c='red', label='val_set_loss')\n",
    "plt.plot(x_len, y_loss, marker='.', c='blue', label='train_set_oss')\n",
    "plt.legend()\n",
    "plt.xlabel('epochs')\n",
    "plt.ylabel('loss')\n",
    "plt.grid()\n",
    "plt.show()"
   ]
  },
  {
   "cell_type": "code",
   "execution_count": 11,
   "metadata": {},
   "outputs": [],
   "source": [
    "from PIL import Image\n",
    "import os, glob, numpy as np\n",
    "from keras.models import load_model\n",
    "model = load_model('./model/multi_img_classification.model')"
   ]
  },
  {
   "cell_type": "code",
   "execution_count": 1,
   "metadata": {},
   "outputs": [
    {
     "name": "stdout",
     "output_type": "stream",
     "text": [
      " * Serving Flask app \"__main__\" (lazy loading)\n",
      " * Environment: production\n",
      "\u001b[31m   WARNING: This is a development server. Do not use it in a production deployment.\u001b[0m\n",
      "\u001b[2m   Use a production WSGI server instead.\u001b[0m\n",
      " * Debug mode: on\n"
     ]
    },
    {
     "name": "stderr",
     "output_type": "stream",
     "text": [
      " * Running on http://0.0.0.0:5000/ (Press CTRL+C to quit)\n",
      " * Restarting with fsevents reloader\n"
     ]
    },
    {
     "ename": "SystemExit",
     "evalue": "1",
     "output_type": "error",
     "traceback": [
      "An exception has occurred, use %tb to see the full traceback.\n",
      "\u001b[0;31mSystemExit\u001b[0m\u001b[0;31m:\u001b[0m 1\n"
     ]
    },
    {
     "name": "stderr",
     "output_type": "stream",
     "text": [
      "/Users/roopre/opt/anaconda3/lib/python3.8/site-packages/IPython/core/interactiveshell.py:3426: UserWarning: To exit: use 'exit', 'quit', or Ctrl-D.\n",
      "  warn(\"To exit: use 'exit', 'quit', or Ctrl-D.\", stacklevel=1)\n"
     ]
    }
   ],
   "source": [
    "from flask import Flask, request\n",
    "import numpy as np\n",
    "import os, glob, numpy as np\n",
    "from tensorflow.keras.models import load_model\n",
    "app = Flask(__name__)\n",
    "\n",
    "@app.route('/', methods = ['GET', 'POST'])\n",
    "def upload_file():\n",
    "    if request.method == 'POST':\n",
    "        X=[]\n",
    "        f = request.files['image']\n",
    "        #저장할 경로 + 파일명\n",
    "        f.save(f.filename)\n",
    "        img = Image.open(f)\n",
    "        img = img.convert(\"RGB\")\n",
    "        img = img.resize((image_w,image_h))\n",
    "        data = np.asarray(img)\n",
    "        X.append(data)\n",
    "        X = np.array(X)\n",
    "        model = load_model('./model/multi_img_classification.model')\n",
    "        prediction = model.predict(X)\n",
    "        np.set_printoptions(formatter={'float': lambda x: \"{0:0.3f}\".format(x)})\n",
    "        pre_ans = prediction.argmax()\n",
    "\n",
    "        print(pre_ans)\n",
    "        pre_ans_str = ''\n",
    "        if pre_ans == 0: pre_ans_str = \"김치찌개\"\n",
    "        elif pre_ans == 1: pre_ans_str = \"라면\"\n",
    "        elif pre_ans == 2: pre_ans_str = \"양념게장\"\n",
    "        else: pre_ans_str = \"제육볶음\"\n",
    "        if pre_ans[0] >= 0.8: print(\"이미지는 \"+pre_ans_str+\"로 추정됩니다.\")\n",
    "        if pre_ans[1] >= 0.8: print(\"이미지는 \"+pre_ans_str+\"으로 추정됩니다.\")\n",
    "        if pre_ans[2] >= 0.8: print(\"이미지는 \"+pre_ans_str+\"로 추정됩니다.\")\n",
    "        if pre_ans[3] >= 0.8: print(\"이미지는 \"+pre_ans_str+\"로 추정됩니다.\")\n",
    "        return pre_ans_str\n",
    "\n",
    "if __name__ == '__main__':\n",
    "    app.run(host=\"0.0.0.0\", port=5000, debug=True)"
   ]
  },
  {
   "cell_type": "code",
   "execution_count": 1,
   "metadata": {},
   "outputs": [
    {
     "name": "stdout",
     "output_type": "stream",
     "text": [
      " * Serving Flask app \"__main__\" (lazy loading)\n",
      " * Environment: production\n",
      "\u001b[31m   WARNING: This is a development server. Do not use it in a production deployment.\u001b[0m\n",
      "\u001b[2m   Use a production WSGI server instead.\u001b[0m\n",
      " * Debug mode: on\n"
     ]
    },
    {
     "name": "stderr",
     "output_type": "stream",
     "text": [
      " * Running on http://0.0.0.0:5000/ (Press CTRL+C to quit)\n",
      " * Restarting with fsevents reloader\n"
     ]
    },
    {
     "ename": "SystemExit",
     "evalue": "1",
     "output_type": "error",
     "traceback": [
      "An exception has occurred, use %tb to see the full traceback.\n",
      "\u001b[0;31mSystemExit\u001b[0m\u001b[0;31m:\u001b[0m 1\n"
     ]
    },
    {
     "name": "stderr",
     "output_type": "stream",
     "text": [
      "/Users/roopre/opt/anaconda3/lib/python3.8/site-packages/IPython/core/interactiveshell.py:3426: UserWarning: To exit: use 'exit', 'quit', or Ctrl-D.\n",
      "  warn(\"To exit: use 'exit', 'quit', or Ctrl-D.\", stacklevel=1)\n"
     ]
    }
   ],
   "source": [
    "from tensorflow import keras\n",
    "from flask import Flask, request\n",
    "import numpy as np\n",
    "import tensorflow as tf\n",
    "app = Flask(__name__)\n",
    "\n",
    "@app.route('/', methods = ['GET', 'POST'])\n",
    "def upload_file():\n",
    "    if request.method == 'POST':\n",
    "        class_names = ['김치찌개','양념게장', '라면']\n",
    "        model = keras.models.load_model('model.h5')\n",
    "        f = request.files['image']\n",
    "        #저장할 경로 + 파일명\n",
    "        f.save(f.filename)\n",
    "        img = keras.preprocessing.image.load_img(\n",
    "            f.filename, target_size=(150, 150)\n",
    "        )\n",
    "        img_array = keras.preprocessing.image.img_to_array(img)\n",
    "        img_array = tf.expand_dims(img_array, 0) # Create a batch\n",
    "\n",
    "        predictions = model.predict(img_array)\n",
    "        score = tf.nn.softmax(predictions[0])\n",
    "\n",
    "        return class_names[np.argmax(score)]\n",
    "\n",
    "if __name__ == '__main__':\n",
    "    app.run(host=\"0.0.0.0\", port=5000, debug=True)\n"
   ]
  },
  {
   "cell_type": "code",
   "execution_count": null,
   "metadata": {},
   "outputs": [],
   "source": []
  }
 ],
 "metadata": {
  "kernelspec": {
   "display_name": "Python 3",
   "language": "python",
   "name": "python3"
  },
  "language_info": {
   "codemirror_mode": {
    "name": "ipython",
    "version": 3
   },
   "file_extension": ".py",
   "mimetype": "text/x-python",
   "name": "python",
   "nbconvert_exporter": "python",
   "pygments_lexer": "ipython3",
   "version": "3.8.5"
  }
 },
 "nbformat": 4,
 "nbformat_minor": 4
}
